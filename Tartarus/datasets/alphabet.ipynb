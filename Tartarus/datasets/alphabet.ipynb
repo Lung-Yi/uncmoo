{
 "cells": [
  {
   "cell_type": "code",
   "execution_count": 1,
   "metadata": {},
   "outputs": [],
   "source": [
    "import selfies\n",
    "import pandas as pd\n",
    "from rdkit import Chem\n",
    "\n",
    "def create_alphabet_file(data_path):\n",
    "    data = pd.read_csv(data_path)\n",
    "    sf_list = [selfies.encoder(smiles) for smiles in data[\"smiles\"]]\n",
    "    alphabet = selfies.get_alphabet_from_selfies(sf_list)\n",
    "    save_path = data_path.replace(\".csv\", \"_alphabet.txt\")\n",
    "    alphabet = [a+\"\\n\" for a in list(alphabet)]\n",
    "    with open(save_path, \"w\") as f:\n",
    "        f.writelines(alphabet)\n",
    "    return\n",
    "\n",
    "def calc_maxi_molecule(data_path):\n",
    "    data = pd.read_csv(data_path)\n",
    "    num_list = []\n",
    "    for smi in data[\"smiles\"]:\n",
    "        mol = Chem.MolFromSmiles(smi)\n",
    "        num_list.append(mol.GetNumAtoms())\n",
    "    return max(num_list)\n"
   ]
  },
  {
   "cell_type": "code",
   "execution_count": 2,
   "metadata": {},
   "outputs": [
    {
     "name": "stdout",
     "output_type": "stream",
     "text": [
      "38\n",
      "13\n",
      "35\n",
      "45\n"
     ]
    }
   ],
   "source": [
    "data_path_list = [\"docking.csv\", \"gdb13.csv\", \"hce.csv\", \"reactivity.csv\"]\n",
    "for data_path in data_path_list:\n",
    "    print(calc_maxi_molecule(data_path))"
   ]
  },
  {
   "cell_type": "code",
   "execution_count": 3,
   "metadata": {},
   "outputs": [],
   "source": [
    "data_path = \"docking.csv\"\n",
    "create_alphabet_file(data_path)\n"
   ]
  },
  {
   "cell_type": "code",
   "execution_count": 5,
   "metadata": {},
   "outputs": [],
   "source": [
    "data_path = \"gdb13.csv\"\n",
    "create_alphabet_file(data_path)"
   ]
  },
  {
   "cell_type": "code",
   "execution_count": 6,
   "metadata": {},
   "outputs": [],
   "source": [
    "data_path = \"hce.csv\"\n",
    "create_alphabet_file(data_path)"
   ]
  },
  {
   "cell_type": "code",
   "execution_count": null,
   "metadata": {},
   "outputs": [],
   "source": []
  }
 ],
 "metadata": {
  "kernelspec": {
   "display_name": "tartarus",
   "language": "python",
   "name": "python3"
  },
  "language_info": {
   "codemirror_mode": {
    "name": "ipython",
    "version": 3
   },
   "file_extension": ".py",
   "mimetype": "text/x-python",
   "name": "python",
   "nbconvert_exporter": "python",
   "pygments_lexer": "ipython3",
   "version": "3.8.17"
  },
  "orig_nbformat": 4
 },
 "nbformat": 4,
 "nbformat_minor": 2
}
